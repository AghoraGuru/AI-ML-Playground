{
  "cells": [
    {
      "cell_type": "code",
      "execution_count": 11,
      "metadata": {
        "id": "s1juRXt1Aly2"
      },
      "outputs": [],
      "source": [
        "from torch import nn,save,load\n",
        "from torch.optim import Adam\n",
        "from torch.utils.data import DataLoader \n",
        "from torchvision import datasets\n",
        "from torchvision.transforms import ToTensor"
      ]
    },
    {
      "cell_type": "code",
      "execution_count": 12,
      "metadata": {
        "id": "78EXgo7ABEKn"
      },
      "outputs": [],
      "source": [
        "train  = datasets.MNIST(root=\"data\",download=True,train=True,transform=ToTensor())"
      ]
    },
    {
      "cell_type": "code",
      "execution_count": 13,
      "metadata": {
        "id": "7Ow7ayPbEnVa"
      },
      "outputs": [],
      "source": [
        "dataset = DataLoader(train,32)\n",
        "#image shape (1,28,28)"
      ]
    },
    {
      "cell_type": "code",
      "execution_count": 18,
      "metadata": {
        "id": "UboHCguQEsbg"
      },
      "outputs": [],
      "source": [
        "#0-9 classes\n",
        "class ImageClassification(nn.Module):\n",
        "  def __init__(self):\n",
        "    super().__init__()\n",
        "    self.model = nn.Sequential(\n",
        "        nn.Conv2d(1,32,(3,3)),\n",
        "        nn.ReLU (),\n",
        "        nn.Conv2d(32,64,(3,3)),\n",
        "        nn.ReLU (),\n",
        "        nn.Conv2d(64,64,(3,3)),\n",
        "        nn.ReLU (),\n",
        "        nn.Flatten(),\n",
        "        nn.Linear(64*(28-6)*(28-6),10))\n",
        "  def forward(self,x):\n",
        "    return self.model(x)"
      ]
    },
    {
      "cell_type": "code",
      "execution_count": 19,
      "metadata": {
        "colab": {
          "base_uri": "https://localhost:8080/"
        },
        "id": "GhjtOc-RHDR6",
        "outputId": "fa64919b-15b6-4e90-cd37-bc92708d6f37"
      },
      "outputs": [
        {
          "name": "stdout",
          "output_type": "stream",
          "text": [
            "Mon Dec 19 00:14:11 2022       \n",
            "+-----------------------------------------------------------------------------+\n",
            "| NVIDIA-SMI 520.61.05    Driver Version: 520.61.05    CUDA Version: 11.8     |\n",
            "|-------------------------------+----------------------+----------------------+\n",
            "| GPU  Name        Persistence-M| Bus-Id        Disp.A | Volatile Uncorr. ECC |\n",
            "| Fan  Temp  Perf  Pwr:Usage/Cap|         Memory-Usage | GPU-Util  Compute M. |\n",
            "|                               |                      |               MIG M. |\n",
            "|===============================+======================+======================|\n",
            "|   0  NVIDIA GeForce ...  Off  | 00000000:01:00.0  On |                  N/A |\n",
            "| N/A   51C    P8     4W /  N/A |    199MiB /  4096MiB |     33%      Default |\n",
            "|                               |                      |                  N/A |\n",
            "+-------------------------------+----------------------+----------------------+\n",
            "                                                                               \n",
            "+-----------------------------------------------------------------------------+\n",
            "| Processes:                                                                  |\n",
            "|  GPU   GI   CI        PID   Type   Process name                  GPU Memory |\n",
            "|        ID   ID                                                   Usage      |\n",
            "|=============================================================================|\n",
            "|    0   N/A  N/A      1268      G   /usr/lib/Xorg                      53MiB |\n",
            "|    0   N/A  N/A   1051913      C   ...yan/miniconda3/bin/python      142MiB |\n",
            "+-----------------------------------------------------------------------------+\n"
          ]
        }
      ],
      "source": [
        "!nvidia-smi"
      ]
    },
    {
      "cell_type": "code",
      "execution_count": 20,
      "metadata": {
        "id": "toU_aNEcGFSE"
      },
      "outputs": [],
      "source": [
        "#creating instance of NN loss and Optimizer\n",
        "clf = ImageClassification().to('cuda')\n",
        "opt = Adam(clf.parameters(),lr = 1e-3)\n",
        "loss_fn = nn.CrossEntropyLoss()"
      ]
    },
    {
      "cell_type": "code",
      "execution_count": 21,
      "metadata": {
        "colab": {
          "base_uri": "https://localhost:8080/"
        },
        "id": "Z14712BpHnNv",
        "outputId": "923c8628-335d-44ff-fdc0-14b7c4d63c0e"
      },
      "outputs": [
        {
          "name": "stderr",
          "output_type": "stream",
          "text": [
            "100%|██████████| 1875/1875 [00:11<00:00, 166.02it/s]\n",
            "100%|██████████| 1875/1875 [00:10<00:00, 180.30it/s]\n",
            "100%|██████████| 1875/1875 [00:10<00:00, 181.22it/s]\n",
            "100%|██████████| 1875/1875 [00:10<00:00, 176.67it/s]\n",
            "100%|██████████| 1875/1875 [00:13<00:00, 143.81it/s]\n",
            "100%|██████████| 1875/1875 [00:13<00:00, 138.48it/s]\n",
            "100%|██████████| 1875/1875 [00:12<00:00, 148.45it/s]\n",
            "100%|██████████| 1875/1875 [00:15<00:00, 120.06it/s]\n",
            "100%|██████████| 1875/1875 [00:16<00:00, 114.17it/s]\n",
            "100%|██████████| 1875/1875 [00:17<00:00, 106.45it/s]"
          ]
        },
        {
          "name": "stdout",
          "output_type": "stream",
          "text": [
            "Epoch:9 loss is 6.399397079803748e-06\n"
          ]
        },
        {
          "name": "stderr",
          "output_type": "stream",
          "text": [
            "\n"
          ]
        }
      ],
      "source": [
        "#Training Function\n",
        "from tqdm import tqdm\n",
        "\n",
        "if __name__ == \"__main__\":\n",
        "  #run Dl for no.of epoch \n",
        "  for epoch in range(10): #trains for 10 epoch\n",
        "    for batch in tqdm(dataset):\n",
        "      X,y = batch\n",
        "      X, y = X.to('cuda'), y.to('cuda')\n",
        "      yhat = clf(X)\n",
        "      loss = loss_fn(yhat,y)\n",
        "\n",
        "      #apply backprop\n",
        "      opt.zero_grad()\n",
        "      loss.backward()\n",
        "      opt.step()\n",
        "\n",
        "  print(f\"Epoch:{epoch} loss is {loss.item()}\")\n",
        "\n",
        "with open('model_state.pt','wb') as f:\n",
        "  save(clf.state_dict(),f)"
      ]
    },
    {
      "cell_type": "code",
      "execution_count": 22,
      "metadata": {
        "id": "PcNAZpV_HvxY"
      },
      "outputs": [],
      "source": [
        "with open('model_state.pt','wb') as f:\n",
        "  save(clf.state_dict(),f)"
      ]
    },
    {
      "cell_type": "code",
      "execution_count": 25,
      "metadata": {
        "colab": {
          "base_uri": "https://localhost:8080/",
          "height": 302
        },
        "id": "BeLXsv7VMxvu",
        "outputId": "aa6ad076-94b8-481a-b33a-a1bc7cf06288"
      },
      "outputs": [
        {
          "name": "stdout",
          "output_type": "stream",
          "text": [
            "tensor(7, device='cuda:0')\n"
          ]
        },
        {
          "data": {
            "text/plain": [
              "<matplotlib.image.AxesImage at 0x7f15b0d60c10>"
            ]
          },
          "execution_count": 25,
          "metadata": {},
          "output_type": "execute_result"
        },
        {
          "data": {
            "image/png": "[encoded data removed]",
            "text/plain": [
              "<Figure size 640x480 with 1 Axes>"
            ]
          },
          "metadata": {},
          "output_type": "display_data"
        }
      ],
      "source": [
        "import matplotlib.pyplot as plt\n",
        "import torch \n",
        "from PIL import Image\n",
        "with open('model_state.pt',\"rb\") as f:\n",
        "  clf.load_state_dict(load(f))\n",
        "image = Image.open('/home/kalyan/gitrepo/AI-ML-Playground/PyTorch/MNIST/data/sample_image.png')\n",
        "img = image.convert('L')\n",
        "#reshaping to weight 1,3,1480,1490\n",
        "img = img.resize((28,28))\n",
        "img_tensor = ToTensor()(img).unsqueeze(0).to('cuda')\n",
        "\n",
        "print(torch.argmax(clf(img_tensor)))\n",
        "plt.imshow(img)\n"
      ]
    },
    {
      "attachments": {},
      "cell_type": "markdown",
      "metadata": {},
      "source": [
        "## Making Custom Layers \n",
        "#### Started with MyReLU onto CustomConv2d (tried , failed with too much errors)"
      ]
    },
    {
      "cell_type": "code",
      "execution_count": 26,
      "metadata": {
        "id": "A00fjjTfjCs9"
      },
      "outputs": [],
      "source": [
        "import torch\n",
        "from torch.autograd import Variable \n",
        "dtype = torch.FloatTensor\n",
        "dtype = torch.cuda.FloatTensor #to run on gpu\n",
        "\n",
        "N, D_in , H, D_out = 64, 1000,100,10\n",
        "x = Variable(torch.randn(N,D_in).type(dtype), requires_grad=False)\n",
        "y = Variable(torch.randn(N,D_out).type(dtype), requires_grad=False)\n",
        "\n",
        "w1 = Variable(torch.randn(D_in,H).type(dtype), requires_grad=True)\n",
        "w2 = Variable(torch.randn(H,D_out).type(dtype), requires_grad=True)"
      ]
    },
    {
      "cell_type": "code",
      "execution_count": 27,
      "metadata": {
        "colab": {
          "base_uri": "https://localhost:8080/"
        },
        "id": "tMpzOHSSUzaY",
        "outputId": "ee9b206e-0e96-42ae-c814-f6e1a6f98cca"
      },
      "outputs": [
        {
          "name": "stdout",
          "output_type": "stream",
          "text": [
            "0 tensor(33841608., device='cuda:0')\n",
            "1 tensor(31044728., device='cuda:0')\n",
            "2 tensor(30585010., device='cuda:0')\n",
            "3 tensor(27946280., device='cuda:0')\n",
            "4 tensor(21782888., device='cuda:0')\n",
            "5 tensor(14337496., device='cuda:0')\n",
            "6 tensor(8330550., device='cuda:0')\n",
            "7 tensor(4691116., device='cuda:0')\n",
            "8 tensor(2776861.5000, device='cuda:0')\n",
            "9 tensor(1812324.8750, device='cuda:0')\n",
            "10 tensor(1304040.1250, device='cuda:0')\n",
            "11 tensor(1010164.2500, device='cuda:0')\n",
            "12 tensor(820557.3125, device='cuda:0')\n",
            "13 tensor(685870.4375, device='cuda:0')\n",
            "14 tensor(583043.3750, device='cuda:0')\n",
            "15 tensor(501065.7812, device='cuda:0')\n",
            "16 tensor(433868.7500, device='cuda:0')\n",
            "17 tensor(377906.1250, device='cuda:0')\n",
            "18 tensor(330810.1875, device='cuda:0')\n",
            "19 tensor(290862.3125, device='cuda:0')\n",
            "20 tensor(256769.9531, device='cuda:0')\n",
            "21 tensor(227479.4219, device='cuda:0')\n",
            "22 tensor(202188.6875, device='cuda:0')\n",
            "23 tensor(180282.4375, device='cuda:0')\n",
            "24 tensor(161207.5625, device='cuda:0')\n",
            "25 tensor(144532.5938, device='cuda:0')\n",
            "26 tensor(129912.9219, device='cuda:0')\n",
            "27 tensor(117049.8672, device='cuda:0')\n",
            "28 tensor(105701.3203, device='cuda:0')\n",
            "29 tensor(95668.7812, device='cuda:0')\n",
            "30 tensor(86771.9609, device='cuda:0')\n",
            "31 tensor(78856.3750, device='cuda:0')\n",
            "32 tensor(71795.5391, device='cuda:0')\n",
            "33 tensor(65485.3789, device='cuda:0')\n",
            "34 tensor(59831.9375, device='cuda:0')\n",
            "35 tensor(54763.7969, device='cuda:0')\n",
            "36 tensor(50210.2812, device='cuda:0')\n",
            "37 tensor(46106.9375, device='cuda:0')\n",
            "38 tensor(42401.2656, device='cuda:0')\n",
            "39 tensor(39051.0078, device='cuda:0')\n",
            "40 tensor(36014.5352, device='cuda:0')\n",
            "41 tensor(33256.4609, device='cuda:0')\n",
            "42 tensor(30747.3379, device='cuda:0')\n",
            "43 tensor(28460.3535, device='cuda:0')\n",
            "44 tensor(26373.0586, device='cuda:0')\n",
            "45 tensor(24466.6484, device='cuda:0')\n",
            "46 tensor(22721.6855, device='cuda:0')\n",
            "47 tensor(21122.9648, device='cuda:0')\n",
            "48 tensor(19655.4551, device='cuda:0')\n",
            "49 tensor(18306.9727, device='cuda:0')\n",
            "50 tensor(17066.9199, device='cuda:0')\n",
            "51 tensor(15924.2100, device='cuda:0')\n",
            "52 tensor(14870.2637, device='cuda:0')\n",
            "53 tensor(13896.8418, device='cuda:0')\n",
            "54 tensor(12996.8389, device='cuda:0')\n",
            "55 tensor(12163.9805, device='cuda:0')\n",
            "56 tensor(11392.6152, device='cuda:0')\n",
            "57 tensor(10677.1914, device='cuda:0')\n",
            "58 tensor(10012.9180, device='cuda:0')\n",
            "59 tensor(9395.4043, device='cuda:0')\n",
            "60 tensor(8821.2871, device='cuda:0')\n",
            "61 tensor(8286.8740, device='cuda:0')\n",
            "62 tensor(7788.9990, device='cuda:0')\n",
            "63 tensor(7324.9033, device='cuda:0')\n",
            "64 tensor(6891.9404, device='cuda:0')\n",
            "65 tensor(6488.1128, device='cuda:0')\n",
            "66 tensor(6111.3916, device='cuda:0')\n",
            "67 tensor(5759.1221, device='cuda:0')\n",
            "68 tensor(5429.4722, device='cuda:0')\n",
            "69 tensor(5120.7031, device='cuda:0')\n",
            "70 tensor(4831.3867, device='cuda:0')\n",
            "71 tensor(4560.1997, device='cuda:0')\n",
            "72 tensor(4305.8350, device='cuda:0')\n",
            "73 tensor(4067.0627, device='cuda:0')\n",
            "74 tensor(3842.8354, device='cuda:0')\n",
            "75 tensor(3632.1123, device='cuda:0')\n",
            "76 tensor(3434.1362, device='cuda:0')\n",
            "77 tensor(3247.7683, device='cuda:0')\n",
            "78 tensor(3072.4214, device='cuda:0')\n",
            "79 tensor(2907.4009, device='cuda:0')\n",
            "80 tensor(2751.9946, device='cuda:0')\n",
            "81 tensor(2605.4580, device='cuda:0')\n",
            "82 tensor(2467.3435, device='cuda:0')\n",
            "83 tensor(2337.0977, device='cuda:0')\n",
            "84 tensor(2214.2827, device='cuda:0')\n",
            "85 tensor(2098.3206, device='cuda:0')\n",
            "86 tensor(1988.8530, device='cuda:0')\n",
            "87 tensor(1885.4845, device='cuda:0')\n",
            "88 tensor(1787.9507, device='cuda:0')\n",
            "89 tensor(1695.8743, device='cuda:0')\n",
            "90 tensor(1608.7686, device='cuda:0')\n",
            "91 tensor(1526.3958, device='cuda:0')\n",
            "92 tensor(1448.5549, device='cuda:0')\n",
            "93 tensor(1374.8538, device='cuda:0')\n",
            "94 tensor(1305.1252, device='cuda:0')\n",
            "95 tensor(1239.1151, device='cuda:0')\n",
            "96 tensor(1176.6543, device='cuda:0')\n",
            "97 tensor(1117.4832, device='cuda:0')\n",
            "98 tensor(1061.4703, device='cuda:0')\n",
            "99 tensor(1008.3629, device='cuda:0')\n",
            "100 tensor(958.0430, device='cuda:0')\n",
            "101 tensor(910.3413, device='cuda:0')\n",
            "102 tensor(865.1246, device='cuda:0')\n",
            "103 tensor(822.2521, device='cuda:0')\n",
            "104 tensor(781.6094, device='cuda:0')\n",
            "105 tensor(743.0416, device='cuda:0')\n",
            "106 tensor(706.4719, device='cuda:0')\n",
            "107 tensor(671.7952, device='cuda:0')\n",
            "108 tensor(638.9272, device='cuda:0')\n",
            "109 tensor(607.6997, device='cuda:0')\n",
            "110 tensor(578.0508, device='cuda:0')\n",
            "111 tensor(549.9026, device='cuda:0')\n",
            "112 tensor(523.1693, device='cuda:0')\n",
            "113 tensor(497.7786, device='cuda:0')\n",
            "114 tensor(473.6604, device='cuda:0')\n",
            "115 tensor(450.7745, device='cuda:0')\n",
            "116 tensor(429.0095, device='cuda:0')\n",
            "117 tensor(408.3249, device='cuda:0')\n",
            "118 tensor(388.6679, device='cuda:0')\n",
            "119 tensor(369.9930, device='cuda:0')\n",
            "120 tensor(352.2370, device='cuda:0')\n",
            "121 tensor(335.3521, device='cuda:0')\n",
            "122 tensor(319.2986, device='cuda:0')\n",
            "123 tensor(304.0552, device='cuda:0')\n",
            "124 tensor(289.5555, device='cuda:0')\n",
            "125 tensor(275.7503, device='cuda:0')\n",
            "126 tensor(262.6194, device='cuda:0')\n",
            "127 tensor(250.1322, device='cuda:0')\n",
            "128 tensor(238.2503, device='cuda:0')\n",
            "129 tensor(226.9527, device='cuda:0')\n",
            "130 tensor(216.1998, device='cuda:0')\n",
            "131 tensor(205.9831, device='cuda:0')\n",
            "132 tensor(196.2481, device='cuda:0')\n",
            "133 tensor(186.9800, device='cuda:0')\n",
            "134 tensor(178.1607, device='cuda:0')\n",
            "135 tensor(169.7653, device='cuda:0')\n",
            "136 tensor(161.7737, device='cuda:0')\n",
            "137 tensor(154.1659, device='cuda:0')\n",
            "138 tensor(146.9229, device='cuda:0')\n",
            "139 tensor(140.0362, device='cuda:0')\n",
            "140 tensor(133.4735, device='cuda:0')\n",
            "141 tensor(127.2216, device='cuda:0')\n",
            "142 tensor(121.2676, device='cuda:0')\n",
            "143 tensor(115.5992, device='cuda:0')\n",
            "144 tensor(110.1960, device='cuda:0')\n",
            "145 tensor(105.0517, device='cuda:0')\n",
            "146 tensor(100.1532, device='cuda:0')\n",
            "147 tensor(95.4887, device='cuda:0')\n",
            "148 tensor(91.0416, device='cuda:0')\n",
            "149 tensor(86.8053, device='cuda:0')\n",
            "150 tensor(82.7682, device='cuda:0')\n",
            "151 tensor(78.9224, device='cuda:0')\n",
            "152 tensor(75.2594, device='cuda:0')\n",
            "153 tensor(71.7681, device='cuda:0')\n",
            "154 tensor(68.4432, device='cuda:0')\n",
            "155 tensor(65.2760, device='cuda:0')\n",
            "156 tensor(62.2566, device='cuda:0')\n",
            "157 tensor(59.3760, device='cuda:0')\n",
            "158 tensor(56.6308, device='cuda:0')\n",
            "159 tensor(54.0146, device='cuda:0')\n",
            "160 tensor(51.5206, device='cuda:0')\n",
            "161 tensor(49.1428, device='cuda:0')\n",
            "162 tensor(46.8799, device='cuda:0')\n",
            "163 tensor(44.7196, device='cuda:0')\n",
            "164 tensor(42.6599, device='cuda:0')\n",
            "165 tensor(40.6967, device='cuda:0')\n",
            "166 tensor(38.8246, device='cuda:0')\n",
            "167 tensor(37.0405, device='cuda:0')\n",
            "168 tensor(35.3381, device='cuda:0')\n",
            "169 tensor(33.7170, device='cuda:0')\n",
            "170 tensor(32.1702, device='cuda:0')\n",
            "171 tensor(30.6954, device='cuda:0')\n",
            "172 tensor(29.2892, device='cuda:0')\n",
            "173 tensor(27.9475, device='cuda:0')\n",
            "174 tensor(26.6672, device='cuda:0')\n",
            "175 tensor(25.4470, device='cuda:0')\n",
            "176 tensor(24.2834, device='cuda:0')\n",
            "177 tensor(23.1745, device='cuda:0')\n",
            "178 tensor(22.1157, device='cuda:0')\n",
            "179 tensor(21.1062, device='cuda:0')\n",
            "180 tensor(20.1434, device='cuda:0')\n",
            "181 tensor(19.2244, device='cuda:0')\n",
            "182 tensor(18.3479, device='cuda:0')\n",
            "183 tensor(17.5118, device='cuda:0')\n",
            "184 tensor(16.7147, device='cuda:0')\n",
            "185 tensor(15.9541, device='cuda:0')\n",
            "186 tensor(15.2284, device='cuda:0')\n",
            "187 tensor(14.5361, device='cuda:0')\n",
            "188 tensor(13.8751, device='cuda:0')\n",
            "189 tensor(13.2447, device='cuda:0')\n",
            "190 tensor(12.6433, device='cuda:0')\n",
            "191 tensor(12.0693, device='cuda:0')\n",
            "192 tensor(11.5220, device='cuda:0')\n",
            "193 tensor(10.9996, device='cuda:0')\n",
            "194 tensor(10.5007, device='cuda:0')\n",
            "195 tensor(10.0248, device='cuda:0')\n",
            "196 tensor(9.5708, device='cuda:0')\n",
            "197 tensor(9.1372, device='cuda:0')\n",
            "198 tensor(8.7238, device='cuda:0')\n",
            "199 tensor(8.3293, device='cuda:0')\n",
            "200 tensor(7.9527, device='cuda:0')\n",
            "201 tensor(7.5932, device='cuda:0')\n",
            "202 tensor(7.2499, device='cuda:0')\n",
            "203 tensor(6.9226, device='cuda:0')\n",
            "204 tensor(6.6098, device='cuda:0')\n",
            "205 tensor(6.3115, device='cuda:0')\n",
            "206 tensor(6.0270, device='cuda:0')\n",
            "207 tensor(5.7555, device='cuda:0')\n",
            "208 tensor(5.4958, device='cuda:0')\n",
            "209 tensor(5.2480, device='cuda:0')\n",
            "210 tensor(5.0116, device='cuda:0')\n",
            "211 tensor(4.7859, device='cuda:0')\n",
            "212 tensor(4.5703, device='cuda:0')\n",
            "213 tensor(4.3649, device='cuda:0')\n",
            "214 tensor(4.1685, device='cuda:0')\n",
            "215 tensor(3.9811, device='cuda:0')\n",
            "216 tensor(3.8019, device='cuda:0')\n",
            "217 tensor(3.6312, device='cuda:0')\n",
            "218 tensor(3.4680, device='cuda:0')\n",
            "219 tensor(3.3122, device='cuda:0')\n",
            "220 tensor(3.1636, device='cuda:0')\n",
            "221 tensor(3.0217, device='cuda:0')\n",
            "222 tensor(2.8861, device='cuda:0')\n",
            "223 tensor(2.7567, device='cuda:0')\n",
            "224 tensor(2.6331, device='cuda:0')\n",
            "225 tensor(2.5151, device='cuda:0')\n",
            "226 tensor(2.4024, device='cuda:0')\n",
            "227 tensor(2.2949, device='cuda:0')\n",
            "228 tensor(2.1921, device='cuda:0')\n",
            "229 tensor(2.0939, device='cuda:0')\n",
            "230 tensor(2.0002, device='cuda:0')\n",
            "231 tensor(1.9107, device='cuda:0')\n",
            "232 tensor(1.8253, device='cuda:0')\n",
            "233 tensor(1.7436, device='cuda:0')\n",
            "234 tensor(1.6658, device='cuda:0')\n",
            "235 tensor(1.5914, device='cuda:0')\n",
            "236 tensor(1.5203, device='cuda:0')\n",
            "237 tensor(1.4524, device='cuda:0')\n",
            "238 tensor(1.3876, device='cuda:0')\n",
            "239 tensor(1.3256, device='cuda:0')\n",
            "240 tensor(1.2665, device='cuda:0')\n",
            "241 tensor(1.2100, device='cuda:0')\n",
            "242 tensor(1.1560, device='cuda:0')\n",
            "243 tensor(1.1045, device='cuda:0')\n",
            "244 tensor(1.0553, device='cuda:0')\n",
            "245 tensor(1.0082, device='cuda:0')\n",
            "246 tensor(0.9634, device='cuda:0')\n",
            "247 tensor(0.9205, device='cuda:0')\n",
            "248 tensor(0.8795, device='cuda:0')\n",
            "249 tensor(0.8404, device='cuda:0')\n",
            "250 tensor(0.8030, device='cuda:0')\n",
            "251 tensor(0.7673, device='cuda:0')\n",
            "252 tensor(0.7332, device='cuda:0')\n",
            "253 tensor(0.7006, device='cuda:0')\n",
            "254 tensor(0.6694, device='cuda:0')\n",
            "255 tensor(0.6397, device='cuda:0')\n",
            "256 tensor(0.6113, device='cuda:0')\n",
            "257 tensor(0.5842, device='cuda:0')\n",
            "258 tensor(0.5582, device='cuda:0')\n",
            "259 tensor(0.5334, device='cuda:0')\n",
            "260 tensor(0.5098, device='cuda:0')\n",
            "261 tensor(0.4872, device='cuda:0')\n",
            "262 tensor(0.4655, device='cuda:0')\n",
            "263 tensor(0.4449, device='cuda:0')\n",
            "264 tensor(0.4252, device='cuda:0')\n",
            "265 tensor(0.4064, device='cuda:0')\n",
            "266 tensor(0.3883, device='cuda:0')\n",
            "267 tensor(0.3711, device='cuda:0')\n",
            "268 tensor(0.3547, device='cuda:0')\n",
            "269 tensor(0.3390, device='cuda:0')\n",
            "270 tensor(0.3240, device='cuda:0')\n",
            "271 tensor(0.3097, device='cuda:0')\n",
            "272 tensor(0.2960, device='cuda:0')\n",
            "273 tensor(0.2829, device='cuda:0')\n",
            "274 tensor(0.2704, device='cuda:0')\n",
            "275 tensor(0.2584, device='cuda:0')\n",
            "276 tensor(0.2470, device='cuda:0')\n",
            "277 tensor(0.2361, device='cuda:0')\n",
            "278 tensor(0.2257, device='cuda:0')\n",
            "279 tensor(0.2157, device='cuda:0')\n",
            "280 tensor(0.2062, device='cuda:0')\n",
            "281 tensor(0.1971, device='cuda:0')\n",
            "282 tensor(0.1884, device='cuda:0')\n",
            "283 tensor(0.1801, device='cuda:0')\n",
            "284 tensor(0.1721, device='cuda:0')\n",
            "285 tensor(0.1646, device='cuda:0')\n",
            "286 tensor(0.1573, device='cuda:0')\n",
            "287 tensor(0.1503, device='cuda:0')\n",
            "288 tensor(0.1437, device='cuda:0')\n",
            "289 tensor(0.1374, device='cuda:0')\n",
            "290 tensor(0.1314, device='cuda:0')\n",
            "291 tensor(0.1256, device='cuda:0')\n",
            "292 tensor(0.1201, device='cuda:0')\n",
            "293 tensor(0.1148, device='cuda:0')\n",
            "294 tensor(0.1097, device='cuda:0')\n",
            "295 tensor(0.1049, device='cuda:0')\n",
            "296 tensor(0.1003, device='cuda:0')\n",
            "297 tensor(0.0959, device='cuda:0')\n",
            "298 tensor(0.0917, device='cuda:0')\n",
            "299 tensor(0.0876, device='cuda:0')\n",
            "300 tensor(0.0838, device='cuda:0')\n",
            "301 tensor(0.0801, device='cuda:0')\n",
            "302 tensor(0.0766, device='cuda:0')\n",
            "303 tensor(0.0732, device='cuda:0')\n",
            "304 tensor(0.0700, device='cuda:0')\n",
            "305 tensor(0.0670, device='cuda:0')\n",
            "306 tensor(0.0640, device='cuda:0')\n",
            "307 tensor(0.0612, device='cuda:0')\n",
            "308 tensor(0.0585, device='cuda:0')\n",
            "309 tensor(0.0560, device='cuda:0')\n",
            "310 tensor(0.0535, device='cuda:0')\n",
            "311 tensor(0.0512, device='cuda:0')\n",
            "312 tensor(0.0489, device='cuda:0')\n",
            "313 tensor(0.0468, device='cuda:0')\n",
            "314 tensor(0.0447, device='cuda:0')\n",
            "315 tensor(0.0428, device='cuda:0')\n",
            "316 tensor(0.0409, device='cuda:0')\n",
            "317 tensor(0.0391, device='cuda:0')\n",
            "318 tensor(0.0374, device='cuda:0')\n",
            "319 tensor(0.0358, device='cuda:0')\n",
            "320 tensor(0.0342, device='cuda:0')\n",
            "321 tensor(0.0327, device='cuda:0')\n",
            "322 tensor(0.0313, device='cuda:0')\n",
            "323 tensor(0.0300, device='cuda:0')\n",
            "324 tensor(0.0287, device='cuda:0')\n",
            "325 tensor(0.0274, device='cuda:0')\n",
            "326 tensor(0.0262, device='cuda:0')\n",
            "327 tensor(0.0251, device='cuda:0')\n",
            "328 tensor(0.0240, device='cuda:0')\n",
            "329 tensor(0.0230, device='cuda:0')\n",
            "330 tensor(0.0220, device='cuda:0')\n",
            "331 tensor(0.0210, device='cuda:0')\n",
            "332 tensor(0.0201, device='cuda:0')\n",
            "333 tensor(0.0192, device='cuda:0')\n",
            "334 tensor(0.0184, device='cuda:0')\n",
            "335 tensor(0.0176, device='cuda:0')\n",
            "336 tensor(0.0169, device='cuda:0')\n",
            "337 tensor(0.0161, device='cuda:0')\n",
            "338 tensor(0.0154, device='cuda:0')\n",
            "339 tensor(0.0148, device='cuda:0')\n",
            "340 tensor(0.0141, device='cuda:0')\n",
            "341 tensor(0.0136, device='cuda:0')\n",
            "342 tensor(0.0130, device='cuda:0')\n",
            "343 tensor(0.0124, device='cuda:0')\n",
            "344 tensor(0.0119, device='cuda:0')\n",
            "345 tensor(0.0114, device='cuda:0')\n",
            "346 tensor(0.0109, device='cuda:0')\n",
            "347 tensor(0.0104, device='cuda:0')\n",
            "348 tensor(0.0100, device='cuda:0')\n",
            "349 tensor(0.0096, device='cuda:0')\n",
            "350 tensor(0.0092, device='cuda:0')\n",
            "351 tensor(0.0088, device='cuda:0')\n",
            "352 tensor(0.0084, device='cuda:0')\n",
            "353 tensor(0.0081, device='cuda:0')\n",
            "354 tensor(0.0077, device='cuda:0')\n",
            "355 tensor(0.0074, device='cuda:0')\n",
            "356 tensor(0.0071, device='cuda:0')\n",
            "357 tensor(0.0068, device='cuda:0')\n",
            "358 tensor(0.0065, device='cuda:0')\n",
            "359 tensor(0.0063, device='cuda:0')\n",
            "360 tensor(0.0060, device='cuda:0')\n",
            "361 tensor(0.0058, device='cuda:0')\n",
            "362 tensor(0.0055, device='cuda:0')\n",
            "363 tensor(0.0053, device='cuda:0')\n",
            "364 tensor(0.0051, device='cuda:0')\n",
            "365 tensor(0.0049, device='cuda:0')\n",
            "366 tensor(0.0047, device='cuda:0')\n",
            "367 tensor(0.0045, device='cuda:0')\n",
            "368 tensor(0.0043, device='cuda:0')\n",
            "369 tensor(0.0041, device='cuda:0')\n",
            "370 tensor(0.0040, device='cuda:0')\n",
            "371 tensor(0.0038, device='cuda:0')\n",
            "372 tensor(0.0037, device='cuda:0')\n",
            "373 tensor(0.0035, device='cuda:0')\n",
            "374 tensor(0.0034, device='cuda:0')\n",
            "375 tensor(0.0032, device='cuda:0')\n",
            "376 tensor(0.0031, device='cuda:0')\n",
            "377 tensor(0.0030, device='cuda:0')\n",
            "378 tensor(0.0029, device='cuda:0')\n",
            "379 tensor(0.0028, device='cuda:0')\n",
            "380 tensor(0.0027, device='cuda:0')\n",
            "381 tensor(0.0026, device='cuda:0')\n",
            "382 tensor(0.0025, device='cuda:0')\n",
            "383 tensor(0.0024, device='cuda:0')\n",
            "384 tensor(0.0023, device='cuda:0')\n",
            "385 tensor(0.0022, device='cuda:0')\n",
            "386 tensor(0.0021, device='cuda:0')\n",
            "387 tensor(0.0020, device='cuda:0')\n",
            "388 tensor(0.0020, device='cuda:0')\n",
            "389 tensor(0.0019, device='cuda:0')\n",
            "390 tensor(0.0018, device='cuda:0')\n",
            "391 tensor(0.0018, device='cuda:0')\n",
            "392 tensor(0.0017, device='cuda:0')\n",
            "393 tensor(0.0016, device='cuda:0')\n",
            "394 tensor(0.0016, device='cuda:0')\n",
            "395 tensor(0.0015, device='cuda:0')\n",
            "396 tensor(0.0015, device='cuda:0')\n",
            "397 tensor(0.0014, device='cuda:0')\n",
            "398 tensor(0.0014, device='cuda:0')\n",
            "399 tensor(0.0013, device='cuda:0')\n",
            "400 tensor(0.0013, device='cuda:0')\n",
            "401 tensor(0.0012, device='cuda:0')\n",
            "402 tensor(0.0012, device='cuda:0')\n",
            "403 tensor(0.0012, device='cuda:0')\n",
            "404 tensor(0.0011, device='cuda:0')\n",
            "405 tensor(0.0011, device='cuda:0')\n",
            "406 tensor(0.0010, device='cuda:0')\n",
            "407 tensor(0.0010, device='cuda:0')\n",
            "408 tensor(0.0010, device='cuda:0')\n",
            "409 tensor(0.0009, device='cuda:0')\n",
            "410 tensor(0.0009, device='cuda:0')\n",
            "411 tensor(0.0009, device='cuda:0')\n",
            "412 tensor(0.0009, device='cuda:0')\n",
            "413 tensor(0.0008, device='cuda:0')\n",
            "414 tensor(0.0008, device='cuda:0')\n",
            "415 tensor(0.0008, device='cuda:0')\n",
            "416 tensor(0.0008, device='cuda:0')\n",
            "417 tensor(0.0007, device='cuda:0')\n",
            "418 tensor(0.0007, device='cuda:0')\n",
            "419 tensor(0.0007, device='cuda:0')\n",
            "420 tensor(0.0007, device='cuda:0')\n",
            "421 tensor(0.0006, device='cuda:0')\n",
            "422 tensor(0.0006, device='cuda:0')\n",
            "423 tensor(0.0006, device='cuda:0')\n",
            "424 tensor(0.0006, device='cuda:0')\n",
            "425 tensor(0.0006, device='cuda:0')\n",
            "426 tensor(0.0006, device='cuda:0')\n",
            "427 tensor(0.0005, device='cuda:0')\n",
            "428 tensor(0.0005, device='cuda:0')\n",
            "429 tensor(0.0005, device='cuda:0')\n",
            "430 tensor(0.0005, device='cuda:0')\n",
            "431 tensor(0.0005, device='cuda:0')\n",
            "432 tensor(0.0005, device='cuda:0')\n",
            "433 tensor(0.0005, device='cuda:0')\n",
            "434 tensor(0.0004, device='cuda:0')\n",
            "435 tensor(0.0004, device='cuda:0')\n",
            "436 tensor(0.0004, device='cuda:0')\n",
            "437 tensor(0.0004, device='cuda:0')\n",
            "438 tensor(0.0004, device='cuda:0')\n",
            "439 tensor(0.0004, device='cuda:0')\n",
            "440 tensor(0.0004, device='cuda:0')\n",
            "441 tensor(0.0004, device='cuda:0')\n",
            "442 tensor(0.0004, device='cuda:0')\n",
            "443 tensor(0.0003, device='cuda:0')\n",
            "444 tensor(0.0003, device='cuda:0')\n",
            "445 tensor(0.0003, device='cuda:0')\n",
            "446 tensor(0.0003, device='cuda:0')\n",
            "447 tensor(0.0003, device='cuda:0')\n",
            "448 tensor(0.0003, device='cuda:0')\n",
            "449 tensor(0.0003, device='cuda:0')\n",
            "450 tensor(0.0003, device='cuda:0')\n",
            "451 tensor(0.0003, device='cuda:0')\n",
            "452 tensor(0.0003, device='cuda:0')\n",
            "453 tensor(0.0003, device='cuda:0')\n",
            "454 tensor(0.0003, device='cuda:0')\n",
            "455 tensor(0.0003, device='cuda:0')\n",
            "456 tensor(0.0003, device='cuda:0')\n",
            "457 tensor(0.0002, device='cuda:0')\n",
            "458 tensor(0.0002, device='cuda:0')\n",
            "459 tensor(0.0002, device='cuda:0')\n",
            "460 tensor(0.0002, device='cuda:0')\n",
            "461 tensor(0.0002, device='cuda:0')\n",
            "462 tensor(0.0002, device='cuda:0')\n",
            "463 tensor(0.0002, device='cuda:0')\n",
            "464 tensor(0.0002, device='cuda:0')\n",
            "465 tensor(0.0002, device='cuda:0')\n",
            "466 tensor(0.0002, device='cuda:0')\n",
            "467 tensor(0.0002, device='cuda:0')\n",
            "468 tensor(0.0002, device='cuda:0')\n",
            "469 tensor(0.0002, device='cuda:0')\n",
            "470 tensor(0.0002, device='cuda:0')\n",
            "471 tensor(0.0002, device='cuda:0')\n",
            "472 tensor(0.0002, device='cuda:0')\n",
            "473 tensor(0.0002, device='cuda:0')\n",
            "474 tensor(0.0002, device='cuda:0')\n",
            "475 tensor(0.0002, device='cuda:0')\n",
            "476 tensor(0.0002, device='cuda:0')\n",
            "477 tensor(0.0002, device='cuda:0')\n",
            "478 tensor(0.0002, device='cuda:0')\n",
            "479 tensor(0.0002, device='cuda:0')\n",
            "480 tensor(0.0001, device='cuda:0')\n",
            "481 tensor(0.0001, device='cuda:0')\n",
            "482 tensor(0.0001, device='cuda:0')\n",
            "483 tensor(0.0001, device='cuda:0')\n",
            "484 tensor(0.0001, device='cuda:0')\n",
            "485 tensor(0.0001, device='cuda:0')\n",
            "486 tensor(0.0001, device='cuda:0')\n",
            "487 tensor(0.0001, device='cuda:0')\n",
            "488 tensor(0.0001, device='cuda:0')\n",
            "489 tensor(0.0001, device='cuda:0')\n",
            "490 tensor(0.0001, device='cuda:0')\n",
            "491 tensor(0.0001, device='cuda:0')\n",
            "492 tensor(0.0001, device='cuda:0')\n",
            "493 tensor(0.0001, device='cuda:0')\n",
            "494 tensor(0.0001, device='cuda:0')\n",
            "495 tensor(0.0001, device='cuda:0')\n",
            "496 tensor(0.0001, device='cuda:0')\n",
            "497 tensor(0.0001, device='cuda:0')\n",
            "498 tensor(0.0001, device='cuda:0')\n",
            "499 tensor(0.0001, device='cuda:0')\n"
          ]
        }
      ],
      "source": [
        "learning_rate = 1e-6\n",
        "for t in range(500):\n",
        "    y_pred = x.mm(w1).clamp(min=0).mm(w2)\n",
        "    ##mm is matrix multiplication and clamp , clamps both all the values in the input range between a min and max values\n",
        "\n",
        "    #calculate loss\n",
        "    '''Now to compute the loss we are using the same popular loss function , sum of all squared difference of y_pred and y \n",
        "Loss is a variable of shape(1,) and loss.data is a Tensor of shape (1,) ; loss.data[0] is a scalar value holding loss'''\n",
        "    loss = (y_pred - y).pow(2).sum()\n",
        "    print(t, loss.data)\n",
        "    '''Now we need to set the gradients of both sets of weights to 0 since graident buffers needs to be reset before fresh gradients are calculated'''\n",
        "\n",
        "    '''now we will use autograd to compute the backward pass . this call will compute the gradient of loss wrt all variables with ```requires_grad=True``` \n",
        "after this w1.grad and w2.grad will be variables holding the grad of the loss wrt w1 and w2'''\n",
        "    loss.backward()\n",
        "\n",
        "    '''now we will update the weights using gradient descent . for this we will just mutate the values of w1 and w2 in place .'''\n",
        "    w1.data -= learning_rate*w1.grad.data\n",
        "    w2.data -= learning_rate*w2.grad.data\n",
        "    w1.grad.data.zero_()\n",
        "    w2.grad.data.zero_()"
      ]
    },
    {
      "cell_type": "code",
      "execution_count": 28,
      "metadata": {
        "id": "utqv5Ns-U2Zc"
      },
      "outputs": [],
      "source": [
        "train  = datasets.MNIST(root=\"data\",download=True,train=True,transform=ToTensor())\n",
        "dataset = DataLoader(train,32)\n",
        "#image shape (1,28,28)"
      ]
    },
    {
      "cell_type": "code",
      "execution_count": 29,
      "metadata": {
        "id": "qpHgTnUYb2xM"
      },
      "outputs": [],
      "source": [
        "#trying using MyReLU\n",
        "class MyReLU(nn.Module):\n",
        "    def forward(self, input):\n",
        "        self.save_for_backward(input)\n",
        "        return input.clamp(min=0)\n",
        "    def backward(self, grad_output):\n",
        "        input, = self.saved_tensors\n",
        "        grad_input = grad_output.clone()\n",
        "        grad_input[input<0] = 0\n",
        "        return grad_input\n",
        "    def save_for_backward(self,x):\n",
        "        self.saved_tensors = x\n",
        "#0-9 classes\n",
        "class ImageClassification(nn.Module):\n",
        "    def __init__(self):\n",
        "        super().__init__()\n",
        "        self.model = nn.Sequential(\n",
        "            nn.Conv2d(1,32,(3,3)),\n",
        "            MyReLU(),\n",
        "            nn.Conv2d(32,64,(3,3)),\n",
        "            MyReLU(),\n",
        "            nn.Conv2d(64,64,(3,3)),\n",
        "            MyReLU(),\n",
        "            nn.Flatten(),\n",
        "            nn.Linear(64*(28-6)*(28-6),10))\n",
        "    def forward(self,x):\n",
        "        return self.model(x)\n",
        "\n",
        "#creating instance of NN loss and Optimizer\n",
        "clf = ImageClassification().to('cuda')\n",
        "opt = Adam(clf.parameters(),lr = 1e-3)\n",
        "loss_fn = nn.CrossEntropyLoss()"
      ]
    },
    {
      "cell_type": "code",
      "execution_count": 30,
      "metadata": {
        "colab": {
          "base_uri": "https://localhost:8080/"
        },
        "id": "MaOGLCfMb3-i",
        "outputId": "045820f5-aa8a-48bb-8466-310a1cc75b2a"
      },
      "outputs": [
        {
          "name": "stderr",
          "output_type": "stream",
          "text": [
            "100%|██████████| 1875/1875 [00:11<00:00, 169.52it/s]\n",
            "100%|██████████| 1875/1875 [00:11<00:00, 165.51it/s]\n",
            "100%|██████████| 1875/1875 [00:11<00:00, 168.05it/s]\n",
            "100%|██████████| 1875/1875 [00:11<00:00, 164.06it/s]\n",
            "100%|██████████| 1875/1875 [00:11<00:00, 166.92it/s]\n",
            "100%|██████████| 1875/1875 [00:11<00:00, 168.50it/s]\n",
            "100%|██████████| 1875/1875 [00:10<00:00, 172.67it/s]\n",
            "100%|██████████| 1875/1875 [00:11<00:00, 168.29it/s]\n",
            "100%|██████████| 1875/1875 [00:11<00:00, 164.62it/s]\n",
            "100%|██████████| 1875/1875 [00:11<00:00, 162.22it/s]"
          ]
        },
        {
          "name": "stdout",
          "output_type": "stream",
          "text": [
            "Epoch9 loss is 5.98248061578488e-06\n"
          ]
        },
        {
          "name": "stderr",
          "output_type": "stream",
          "text": [
            "\n"
          ]
        }
      ],
      "source": [
        "#Training Function\n",
        "from tqdm import tqdm\n",
        "\n",
        "if __name__ == \"__main__\":\n",
        "  #run Dl for no.of epoch \n",
        "  for epoch in range(10): #trains for 10 epoch\n",
        "    for batch in tqdm(dataset):\n",
        "      X,y = batch\n",
        "      X, y = X.to('cuda'), y.to('cuda')\n",
        "      yhat = clf(X)\n",
        "      loss = loss_fn(yhat,y)\n",
        "\n",
        "      #apply backprop\n",
        "      opt.zero_grad()\n",
        "      loss.backward()\n",
        "      opt.step()\n",
        "\n",
        "  print(f\"Epoch{epoch} loss is {loss.item()}\")\n",
        "\n",
        "with open('model_state.pt','wb') as f:\n",
        "  save(clf.state_dict(),f)"
      ]
    },
    {
      "cell_type": "code",
      "execution_count": 31,
      "metadata": {
        "id": "5LkVyWttlCzV"
      },
      "outputs": [],
      "source": [
        "with open('model_state.pt','wb') as f:\n",
        "  save(clf.state_dict(),f)"
      ]
    },
    {
      "cell_type": "code",
      "execution_count": 33,
      "metadata": {
        "colab": {
          "base_uri": "https://localhost:8080/",
          "height": 283
        },
        "id": "-0uaz3P1lRST",
        "outputId": "860e218c-fce9-4d7e-f34d-06bbc73364d4"
      },
      "outputs": [
        {
          "name": "stdout",
          "output_type": "stream",
          "text": [
            "tensor(7, device='cuda:0')\n"
          ]
        },
        {
          "data": {
            "image/png": "[encoded data removed]",
            "text/plain": [
              "<Figure size 640x480 with 1 Axes>"
            ]
          },
          "metadata": {},
          "output_type": "display_data"
        }
      ],
      "source": [
        "#predicting\n",
        "from PIL import Image\n",
        "import numpy as np\n",
        "import matplotlib.pyplot as plt\n",
        "\n",
        "def predict(img,model):\n",
        "    x = ToTensor()(img).unsqueeze(0).to('cuda')\n",
        "    yhat = model(x)\n",
        "    return yhat.argmax()\n",
        "\n",
        "img = Image.open('/home/kalyan/gitrepo/AI-ML-Playground/PyTorch/MNIST/data/sample_image.png')\n",
        "#convertin to 1 channel\n",
        "img = img.convert('L')\n",
        "#reshaping to weight 1,3,1480,1490\n",
        "img = img.resize((28,28))\n",
        "plt.imshow(img)\n",
        "print(predict(img,clf))"
      ]
    },
    {
      "cell_type": "code",
      "execution_count": 24,
      "metadata": {
        "id": "nyB03ifhlPhh"
      },
      "outputs": [
        {
          "data": {
            "text/plain": [
              "\"class ImageClassification(nn.Module):\\n    def __init__(self):\\n        super().__init__()\\n        self.model = nn.Sequential(\\n            nn.Conv2d(1,32,(3,3)),\\n            MyReLU(),\\n            nn.Conv2d(32,64,(3,3)),\\n            MyReLU(),\\n            nn.Conv2d(64,64,(3,3)),\\n            MyReLU(),\\n            nn.Flatten(),\\n            nn.Linear(64*(28-6)*(28-6),10))\\n    def forward(self,x):\\n        return self.model(x)\\n\\n#creating instance of NN loss and Optimizer\\nclf = ImageClassification().to('cuda')\\n\\n# Define the optimizer and loss function\\nopt = Adam(clf.parameters(), lr=1e-3)\\nloss_fn = nn.CrossEntropyLoss()\\n\\nfrom torch.utils.data import DataLoader\\n# Load your training data\\ntrain_loader = DataLoader(train, batch_size=64, shuffle=True)\\n\\n# Loop over the training data\\nfor inputs, labels in train_loader:\\n    # Move the input and label tensors to the GPU\\n    inputs, labels = inputs.to('cuda'), labels.to('cuda')\\n\\n    # Zero out the gradients of the optimizer\\n    opt.zero_grad()\\n\\n    # Forward pass\\n    outputs = clf(inputs)\\n    loss = loss_fn(outputs, labels)\\n\\n    # Backward pass\\n    loss.backward()\\n\\n    # Update the model weights\\n    opt.step()\""
            ]
          },
          "execution_count": 24,
          "metadata": {},
          "output_type": "execute_result"
        }
      ],
      "source": [
        "import math\n",
        "from torch import nn\n",
        "from torch import save,load\n",
        "from torch.nn import functional as F\n",
        "from torch.optim import Adam\n",
        "#trying using MyReLU\n",
        "class MyReLU(nn.Module):\n",
        "    def forward(self, input):\n",
        "        self.save_for_backward(input)\n",
        "        return input.clamp(min=0)\n",
        "    def backward(self, grad_output):\n",
        "        input, = self.saved_tensors\n",
        "        grad_input = grad_output.clone()\n",
        "        grad_input[input<0] = 0\n",
        "        return grad_input\n",
        "    def save_for_backward(self,x):\n",
        "        self.saved_tensors = x\n",
        "class MyConv2d(nn.Module):\n",
        "    def __init__(self, in_channels, out_channels, kernel_size, stride=1, padding=0, dilation=1, groups=1, bias=True):\n",
        "        super().__init__()\n",
        "        self.in_channels = in_channels\n",
        "        self.out_channels = out_channels\n",
        "        self.kernel_size = kernel_size\n",
        "        self.stride = stride\n",
        "        self.padding = padding\n",
        "        self.dilation = dilation\n",
        "        self.groups = groups\n",
        "        self.bias = bias\n",
        "        self.weight = nn.Parameter(torch.Tensor(out_channels, in_channels // groups, *kernel_size))\n",
        "        if bias:\n",
        "            self.bias = nn.Parameter(torch.Tensor(out_channels))\n",
        "        self.reset_parameters()\n",
        "\n",
        "    def reset_parameters(self):\n",
        "        nn.init.kaiming_uniform_(self.weight, a=math.sqrt(5))\n",
        "        if self.bias is not None:\n",
        "            fan_in, _ = nn.init._calculate_fan_in_and_fan_out(self.weight)\n",
        "            bound = 1 / math.sqrt(fan_in)\n",
        "            nn.init.uniform_(self.bias, -bound, bound)\n",
        "\n",
        "    def forward(self, input):\n",
        "        return F.conv2d(input, self.weight, self.bias, self.stride, self.padding, self.dilation, self.groups)\n",
        "\n",
        "#0-9 classes\n",
        "'''class ImageClassification(nn.Module):\n",
        "    def __init__(self):\n",
        "        super().__init__()\n",
        "        self.model = nn.Sequential(\n",
        "            nn.Conv2d(1,32,(3,3)),\n",
        "            MyReLU(),\n",
        "            nn.Conv2d(32,64,(3,3)),\n",
        "            MyReLU(),\n",
        "            nn.Conv2d(64,64,(3,3)),\n",
        "            MyReLU(),\n",
        "            nn.Flatten(),\n",
        "            nn.Linear(64*(28-6)*(28-6),10))\n",
        "    def forward(self,x):\n",
        "        return self.model(x)\n",
        "\n",
        "#creating instance of NN loss and Optimizer\n",
        "clf = ImageClassification().to('cuda')\n",
        "\n",
        "# Define the optimizer and loss function\n",
        "opt = Adam(clf.parameters(), lr=1e-3)\n",
        "loss_fn = nn.CrossEntropyLoss()\n",
        "\n",
        "from torch.utils.data import DataLoader\n",
        "# Load your training data\n",
        "train_loader = DataLoader(train, batch_size=64, shuffle=True)\n",
        "\n",
        "# Loop over the training data\n",
        "for inputs, labels in train_loader:\n",
        "    # Move the input and label tensors to the GPU\n",
        "    inputs, labels = inputs.to('cuda'), labels.to('cuda')\n",
        "\n",
        "    # Zero out the gradients of the optimizer\n",
        "    opt.zero_grad()\n",
        "\n",
        "    # Forward pass\n",
        "    outputs = clf(inputs)\n",
        "    loss = loss_fn(outputs, labels)\n",
        "\n",
        "    # Backward pass\n",
        "    loss.backward()\n",
        "\n",
        "    # Update the model weights\n",
        "    opt.step()'''"
      ]
    },
    {
      "cell_type": "code",
      "execution_count": 34,
      "metadata": {},
      "outputs": [],
      "source": [
        "class ImageClassification(nn.Module):\n",
        "    def __init__(self):\n",
        "        super().__init__()\n",
        "        self.model = nn.Sequential(\n",
        "            MyConv2d(1, 32, (3, 3)),\n",
        "            MyReLU(),\n",
        "            MyConv2d(32, 64, (3, 3)),\n",
        "            MyReLU(),\n",
        "            MyConv2d(64, 64, (3, 3)),\n",
        "            MyReLU(),\n",
        "            nn.Flatten(),\n",
        "            nn.Linear(64*(28-6)*(28-6), 10))\n",
        "            \n",
        "    def forward(self, x):\n",
        "        return self.model(x)\n"
      ]
    },
    {
      "cell_type": "code",
      "execution_count": 35,
      "metadata": {},
      "outputs": [
        {
          "name": "stderr",
          "output_type": "stream",
          "text": [
            "100%|██████████| 938/938 [00:10<00:00, 88.59it/s] \n"
          ]
        },
        {
          "name": "stdout",
          "output_type": "stream",
          "text": [
            "Epoch 1: val_loss = 0.0539, val_acc = 0.9835\n"
          ]
        },
        {
          "name": "stderr",
          "output_type": "stream",
          "text": [
            "100%|██████████| 938/938 [00:09<00:00, 103.36it/s]\n"
          ]
        },
        {
          "name": "stdout",
          "output_type": "stream",
          "text": [
            "Epoch 2: val_loss = 0.0357, val_acc = 0.9877\n"
          ]
        },
        {
          "name": "stderr",
          "output_type": "stream",
          "text": [
            "100%|██████████| 938/938 [00:08<00:00, 107.59it/s]\n"
          ]
        },
        {
          "name": "stdout",
          "output_type": "stream",
          "text": [
            "Epoch 3: val_loss = 0.0361, val_acc = 0.9876\n"
          ]
        },
        {
          "name": "stderr",
          "output_type": "stream",
          "text": [
            "100%|██████████| 938/938 [00:08<00:00, 109.89it/s]\n"
          ]
        },
        {
          "name": "stdout",
          "output_type": "stream",
          "text": [
            "Epoch 4: val_loss = 0.0338, val_acc = 0.9894\n"
          ]
        },
        {
          "name": "stderr",
          "output_type": "stream",
          "text": [
            "100%|██████████| 938/938 [00:10<00:00, 93.45it/s] \n"
          ]
        },
        {
          "name": "stdout",
          "output_type": "stream",
          "text": [
            "Epoch 5: val_loss = 0.0343, val_acc = 0.9900\n"
          ]
        },
        {
          "name": "stderr",
          "output_type": "stream",
          "text": [
            "100%|██████████| 938/938 [00:08<00:00, 110.74it/s]\n"
          ]
        },
        {
          "name": "stdout",
          "output_type": "stream",
          "text": [
            "Epoch 6: val_loss = 0.0486, val_acc = 0.9872\n"
          ]
        },
        {
          "name": "stderr",
          "output_type": "stream",
          "text": [
            "100%|██████████| 938/938 [00:10<00:00, 87.01it/s] \n"
          ]
        },
        {
          "name": "stdout",
          "output_type": "stream",
          "text": [
            "Epoch 7: val_loss = 0.0454, val_acc = 0.9884\n"
          ]
        },
        {
          "name": "stderr",
          "output_type": "stream",
          "text": [
            "100%|██████████| 938/938 [00:09<00:00, 99.45it/s] \n"
          ]
        },
        {
          "name": "stdout",
          "output_type": "stream",
          "text": [
            "Epoch 8: val_loss = 0.0483, val_acc = 0.9874\n"
          ]
        },
        {
          "name": "stderr",
          "output_type": "stream",
          "text": [
            "100%|██████████| 938/938 [00:08<00:00, 112.24it/s]\n"
          ]
        },
        {
          "name": "stdout",
          "output_type": "stream",
          "text": [
            "Epoch 9: val_loss = 0.0559, val_acc = 0.9880\n"
          ]
        },
        {
          "name": "stderr",
          "output_type": "stream",
          "text": [
            "100%|██████████| 938/938 [00:08<00:00, 107.71it/s]\n"
          ]
        },
        {
          "name": "stdout",
          "output_type": "stream",
          "text": [
            "Epoch 10: val_loss = 0.0505, val_acc = 0.9898\n"
          ]
        }
      ],
      "source": [
        "import torch\n",
        "from torch import nn\n",
        "from torch.nn import functional as F\n",
        "from torch.utils.data import DataLoader\n",
        "from torchvision.datasets import MNIST\n",
        "from torchvision.transforms import ToTensor\n",
        "from torch.optim import Adam\n",
        "from tqdm import tqdm\n",
        "#eval method from pytorch\n",
        "\n",
        "train_loader = DataLoader(train, batch_size=64, shuffle=True)\n",
        "\n",
        "def evaluate(model, data_loader, loss_fn):\n",
        "    model.eval()  # Set the model to evaluation mode\n",
        "\n",
        "    # Initialize the total loss and correct predictions\n",
        "    total_loss = 0\n",
        "    num_correct = 0\n",
        "\n",
        "    # Loop over the validation data\n",
        "    with torch.no_grad():  # Disable gradient computation\n",
        "        for inputs, labels in data_loader:\n",
        "            # Move the input and label tensors to the GPU\n",
        "            inputs, labels = inputs.to('cuda'), labels.to('cuda')\n",
        "\n",
        "            # Forward pass\n",
        "            outputs = model(inputs)\n",
        "            loss = loss_fn(outputs, labels)\n",
        "\n",
        "            # Update the total loss and number of correct predictions\n",
        "            total_loss += loss.item() * inputs.size(0)\n",
        "            num_correct += (outputs.argmax(dim=1) == labels).sum().item()\n",
        "\n",
        "    # Compute the average loss and accuracy\n",
        "    avg_loss = total_loss / len(data_loader.dataset)\n",
        "    accuracy = num_correct / len(data_loader.dataset)\n",
        "\n",
        "    return avg_loss, accuracy\n",
        "\n",
        "\n",
        "if __name__ == '__main__':\n",
        "    model = ImageClassification().to('cuda')\n",
        "\n",
        "    # Define the optimizer and loss function\n",
        "    opt = Adam(model.parameters(), lr=1e-3)\n",
        "    loss_fn = nn.CrossEntropyLoss()\n",
        "\n",
        "    # Load the training and validation data\n",
        "    train = MNIST(root='data', train=True, transform=ToTensor(), download=True)\n",
        "    val_loader = DataLoader(MNIST(root='data', train=False, transform=ToTensor()), batch_size=64)\n",
        "    # Loop over the number of epochs\n",
        "    for epoch in range(10):\n",
        "        # Loop over the training data\n",
        "        for inputs, labels in tqdm(train_loader):\n",
        "            # Move the input and label tensors to the GPU\n",
        "            inputs, labels = inputs.to('cuda'), labels.to('cuda')\n",
        "\n",
        "            # Zero out the gradients of the optimizer\n",
        "            opt.zero_grad()\n",
        "\n",
        "            # Forward pass\n",
        "            outputs = model(inputs)\n",
        "            loss = loss_fn(outputs, labels)\n",
        "\n",
        "            # Backward pass\n",
        "            loss.backward()\n",
        "\n",
        "            # Update the model weights\n",
        "            opt.step()\n",
        "\n",
        "        # Evaluate the model on the validation set\n",
        "        val_loss, val_acc = evaluate(model, val_loader, loss_fn)\n",
        "\n",
        "        # Print the epoch number, validation loss, and validation accuracy\n",
        "        print(f'Epoch {epoch+1}: val_loss = {val_loss:.4f}, val_acc = {val_acc:.4f}')\n",
        "    "
      ]
    },
    {
      "cell_type": "code",
      "execution_count": 29,
      "metadata": {},
      "outputs": [
        {
          "name": "stderr",
          "output_type": "stream",
          "text": [
            "100%|██████████| 1875/1875 [00:10<00:00, 184.96it/s]\n",
            "100%|██████████| 1875/1875 [00:09<00:00, 188.23it/s]\n",
            "100%|██████████| 1875/1875 [00:10<00:00, 179.36it/s]\n",
            "100%|██████████| 1875/1875 [00:10<00:00, 173.00it/s]\n",
            "100%|██████████| 1875/1875 [00:13<00:00, 134.84it/s]\n",
            "100%|██████████| 1875/1875 [00:15<00:00, 117.43it/s]\n",
            "100%|██████████| 1875/1875 [00:12<00:00, 149.44it/s]\n",
            "100%|██████████| 1875/1875 [00:14<00:00, 128.42it/s]\n",
            "100%|██████████| 1875/1875 [00:14<00:00, 129.47it/s]\n",
            "100%|██████████| 1875/1875 [00:14<00:00, 131.30it/s]"
          ]
        },
        {
          "name": "stdout",
          "output_type": "stream",
          "text": [
            "Epoch9 loss is 0.006044051609933376\n"
          ]
        },
        {
          "name": "stderr",
          "output_type": "stream",
          "text": [
            "\n"
          ]
        }
      ],
      "source": [
        "#Training Function\n",
        "from tqdm import tqdm\n",
        "\n",
        "if __name__ == \"__main__\":\n",
        "  #run Dl for no.of epoch \n",
        "  for epoch in range(10): #trains for 10 epoch\n",
        "    for batch in tqdm(dataset):\n",
        "      X,y = batch\n",
        "      X, y = X.to('cuda'), y.to('cuda')\n",
        "      yhat = clf(X)\n",
        "      loss = loss_fn(yhat,y)\n",
        "\n",
        "      #apply backprop\n",
        "      opt.zero_grad()\n",
        "      loss.backward()\n",
        "      opt.step()\n",
        "\n",
        "  print(f\"Epoch{epoch} loss is {loss.item()}\")\n",
        "\n",
        "with open('model_state.pt','wb') as f:\n",
        "  save(clf.state_dict(),f)"
      ]
    },
    {
      "cell_type": "code",
      "execution_count": 33,
      "metadata": {},
      "outputs": [
        {
          "name": "stdout",
          "output_type": "stream",
          "text": [
            "tensor(7, device='cuda:0')\n"
          ]
        },
        {
          "data": {
            "image/png": "[encoded data removed]",
            "text/plain": [
              "<Figure size 640x480 with 1 Axes>"
            ]
          },
          "metadata": {},
          "output_type": "display_data"
        }
      ],
      "source": [
        "#predicting\n",
        "from PIL import Image\n",
        "import numpy as np\n",
        "import matplotlib.pyplot as plt\n",
        "\n",
        "def predict(img,model):\n",
        "    x = ToTensor()(img).unsqueeze(0).to('cuda')\n",
        "    yhat = model(x)\n",
        "    return yhat.argmax()\n",
        "\n",
        "img = Image.open('/home/kalyan/gitrepo/AI-ML-Playground/PyTorch/MNIST/data/sample_image.png')\n",
        "#convertin to 1 channel\n",
        "img = img.convert('L')\n",
        "#reshaping to weight 1,3,1480,1490\n",
        "img = img.resize((28,28))\n",
        "plt.imshow(img)\n",
        "print(predict(img,clf))"
      ]
    }
  ],
  "metadata": {
    "accelerator": "GPU",
    "colab": {
      "provenance": []
    },
    "gpuClass": "standard",
    "kernelspec": {
      "display_name": "base",
      "language": "python",
      "name": "python3"
    },
    "language_info": {
      "codemirror_mode": {
        "name": "ipython",
        "version": 3
      },
      "file_extension": ".py",
      "mimetype": "text/x-python",
      "name": "python",
      "nbconvert_exporter": "python",
      "pygments_lexer": "ipython3",
      "version": "3.7.12 | packaged by conda-forge | (default, Oct 26 2021, 06:08:53) \n[GCC 9.4.0]"
    },
    "vscode": {
      "interpreter": {
        "hash": "18435721447aaa7b29792b509b4b765c4d69b94478d2c6d7cbe357a9dc2f4d62"
      }
    }
  },
  "nbformat": 4,
  "nbformat_minor": 0
}
