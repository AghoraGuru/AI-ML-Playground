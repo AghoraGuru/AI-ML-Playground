{
 "cells": [
  {
   "cell_type": "code",
   "execution_count": 38,
   "metadata": {},
   "outputs": [],
   "source": [
    "import os\n",
    "import pandas as pd\n",
    "import matplotlib.pyplot as plt\n",
    "import matplotlib.image as mpimg\n",
    "import random"
   ]
  },
  {
   "cell_type": "code",
   "execution_count": 43,
   "metadata": {},
   "outputs": [],
   "source": [
    "#getting data\n",
    "data_dir = \"/home/kalyan/DataSets/Breast_Cancer_DS/\"\n",
    "csv_dir = data_dir + \"csv/\"\n",
    "img_dir = data_dir + \"jpeg/\"\n",
    "csv_files = (os.listdir(csv_dir))\n",
    "img_files = (os.listdir(img_dir))"
   ]
  },
  {
   "cell_type": "code",
   "execution_count": 44,
   "metadata": {},
   "outputs": [
    {
     "data": {
      "text/html": [
       "<div>\n",
       "<style scoped>\n",
       "    .dataframe tbody tr th:only-of-type {\n",
       "        vertical-align: middle;\n",
       "    }\n",
       "\n",
       "    .dataframe tbody tr th {\n",
       "        vertical-align: top;\n",
       "    }\n",
       "\n",
       "    .dataframe thead th {\n",
       "        text-align: right;\n",
       "    }\n",
       "</style>\n",
       "<table border=\"1\" class=\"dataframe\">\n",
       "  <thead>\n",
       "    <tr style=\"text-align: right;\">\n",
       "      <th></th>\n",
       "      <th>image</th>\n",
       "      <th>label</th>\n",
       "    </tr>\n",
       "  </thead>\n",
       "  <tbody>\n",
       "    <tr>\n",
       "      <th>0</th>\n",
       "      <td>1.3.6.1.4.1.9590.100.1.2.387591275411830479704...</td>\n",
       "      <td>1.3.6.1.4.1.9590.100.1.2.387591275411830479704...</td>\n",
       "    </tr>\n",
       "    <tr>\n",
       "      <th>1</th>\n",
       "      <td>1.3.6.1.4.1.9590.100.1.2.219607249012903142628...</td>\n",
       "      <td>1.3.6.1.4.1.9590.100.1.2.219607249012903142628...</td>\n",
       "    </tr>\n",
       "    <tr>\n",
       "      <th>2</th>\n",
       "      <td>1.3.6.1.4.1.9590.100.1.2.168501304611743333636...</td>\n",
       "      <td>1.3.6.1.4.1.9590.100.1.2.168501304611743333636...</td>\n",
       "    </tr>\n",
       "    <tr>\n",
       "      <th>3</th>\n",
       "      <td>1.3.6.1.4.1.9590.100.1.2.138264492711801714724...</td>\n",
       "      <td>1.3.6.1.4.1.9590.100.1.2.138264492711801714724...</td>\n",
       "    </tr>\n",
       "    <tr>\n",
       "      <th>4</th>\n",
       "      <td>1.3.6.1.4.1.9590.100.1.2.336521983110649535086...</td>\n",
       "      <td>1.3.6.1.4.1.9590.100.1.2.336521983110649535086...</td>\n",
       "    </tr>\n",
       "  </tbody>\n",
       "</table>\n",
       "</div>"
      ],
      "text/plain": [
       "                                               image  \\\n",
       "0  1.3.6.1.4.1.9590.100.1.2.387591275411830479704...   \n",
       "1  1.3.6.1.4.1.9590.100.1.2.219607249012903142628...   \n",
       "2  1.3.6.1.4.1.9590.100.1.2.168501304611743333636...   \n",
       "3  1.3.6.1.4.1.9590.100.1.2.138264492711801714724...   \n",
       "4  1.3.6.1.4.1.9590.100.1.2.336521983110649535086...   \n",
       "\n",
       "                                               label  \n",
       "0  1.3.6.1.4.1.9590.100.1.2.387591275411830479704...  \n",
       "1  1.3.6.1.4.1.9590.100.1.2.219607249012903142628...  \n",
       "2  1.3.6.1.4.1.9590.100.1.2.168501304611743333636...  \n",
       "3  1.3.6.1.4.1.9590.100.1.2.138264492711801714724...  \n",
       "4  1.3.6.1.4.1.9590.100.1.2.336521983110649535086...  "
      ]
     },
     "execution_count": 44,
     "metadata": {},
     "output_type": "execute_result"
    }
   ],
   "source": [
    "#images are stored inside img_files with different names than csv_files\n",
    "#so we need get images and store their labels as their folder names\n",
    "#we will store the images and their labels in a dictionary\n",
    "#we will use this dictionary to create a dataframe\n",
    "img_dict = {}\n",
    "for img in img_files:\n",
    "    img_dict[img] = img.split(\"_\")[0]\n",
    "    #creating a dataframe\n",
    "df = pd.DataFrame.from_dict(img_dict, orient='index')\n",
    "df = df.reset_index()\n",
    "df.columns = ['image', 'label']\n",
    "df.head()\n"
   ]
  }
 ],
 "metadata": {
  "kernelspec": {
   "display_name": "Python 3",
   "language": "python",
   "name": "python3"
  },
  "language_info": {
   "codemirror_mode": {
    "name": "ipython",
    "version": 3
   },
   "file_extension": ".py",
   "mimetype": "text/x-python",
   "name": "python",
   "nbconvert_exporter": "python",
   "pygments_lexer": "ipython3",
   "version": "3.10.8"
  },
  "orig_nbformat": 4,
  "vscode": {
   "interpreter": {
    "hash": "e7370f93d1d0cde622a1f8e1c04877d8463912d04d973331ad4851f04de6915a"
   }
  }
 },
 "nbformat": 4,
 "nbformat_minor": 2
}
